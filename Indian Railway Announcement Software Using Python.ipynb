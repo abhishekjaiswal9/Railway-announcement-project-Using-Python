{
 "cells": [
  {
   "cell_type": "markdown",
   "id": "053c7d2a",
   "metadata": {},
   "source": [
    "Indian Railway Announcment Software\n",
    "\n",
    "In this project, we'll find out that how various announcemnet tracks can be made from the skeletons of a Railway Announcemnt audio using several python modules. \n",
    "\n",
    "So let's get started with the imports. "
   ]
  },
  {
   "cell_type": "code",
   "execution_count": 1,
   "id": "14658174",
   "metadata": {},
   "outputs": [],
   "source": [
    "import os"
   ]
  },
  {
   "cell_type": "code",
   "execution_count": 2,
   "id": "b2e60f61",
   "metadata": {},
   "outputs": [],
   "source": [
    "import pandas as pd"
   ]
  },
  {
   "cell_type": "code",
   "execution_count": 3,
   "id": "c0ff4885",
   "metadata": {},
   "outputs": [],
   "source": [
    "from pydub import AudioSegment "
   ]
  },
  {
   "cell_type": "code",
   "execution_count": 4,
   "id": "e7e09e92",
   "metadata": {},
   "outputs": [],
   "source": [
    "from gtts import gTTS"
   ]
  },
  {
   "cell_type": "code",
   "execution_count": 5,
   "id": "7038c091",
   "metadata": {},
   "outputs": [],
   "source": [
    "def textToSpeech(text, filename):  \n",
    "    mytext = str(text)\n",
    "    language = 'hi'\n",
    "    myobj = gTTS(text=mytext, lang=language, slow=False)\n",
    "    myobj.save(filename) "
   ]
  },
  {
   "cell_type": "code",
   "execution_count": 6,
   "id": "03c6a8f9",
   "metadata": {},
   "outputs": [],
   "source": [
    "# This function returns pydubs audio segment\n",
    "def mergeAudios(audios):\n",
    "    combined = AudioSegment.empty()\n",
    "    for audio in audios:\n",
    "        combined += AudioSegment.from_mp3(audio)\n",
    "    return combined"
   ]
  },
  {
   "cell_type": "code",
   "execution_count": 7,
   "id": "6ed37fc0",
   "metadata": {},
   "outputs": [],
   "source": [
    "def generateSkeleton():\n",
    "    audio = AudioSegment.from_mp3(\"railway.mp3\")\n",
    "    # 1 - Generate kripya dheyan dijiye\n",
    "    start = 88000\n",
    "    finish = 90200\n",
    "    audioProcessed = audio[start:finish]\n",
    "    audioProcessed.export(\"1_hindi.mp3\", format=\"mp3\")\n",
    "    \n",
    "    # 2 is from-city\n",
    "    \n",
    "    # 3 - Generate se chalkar\n",
    "    start = 91000\n",
    "    finish = 92200\n",
    "    audioProcessed = audio[start:finish]\n",
    "    audioProcessed.export(\"3_hindi.mp3\", format=\"mp3\")\n",
    "    \n",
    "    # 4 is via-city\n",
    "    \n",
    "    # 5 - Generate ke raaste\n",
    "    start = 94000\n",
    "    finish = 95000\n",
    "    audioProcessed = audio[start:finish]\n",
    "    audioProcessed.export(\"5_hindi.mp3\", format=\"mp3\")\n",
    "\n",
    "    # 6 is to-city\n",
    "\n",
    "    # 7 - Generate ko jaane wali gaadi sakhya\n",
    "    start = 96000\n",
    "    finish = 98900\n",
    "    audioProcessed = audio[start:finish]\n",
    "    audioProcessed.export(\"7_hindi.mp3\", format=\"mp3\")\n",
    "\n",
    "    # 8 is train no and name\n",
    "\n",
    "    # 9 - Generate kuch hi samay mei platform sankhya\n",
    "    start = 105500\n",
    "    finish = 108200\n",
    "    audioProcessed = audio[start:finish]\n",
    "    audioProcessed.export(\"9_hindi.mp3\", format=\"mp3\")\n",
    "\n",
    "    # 10 is platform number\n",
    "\n",
    "    # 11 - Generate par aa rahi hai\n",
    "    start = 109000\n",
    "    finish = 112250\n",
    "    audioProcessed = audio[start:finish]\n",
    "    audioProcessed.export(\"11_hindi.mp3\", format=\"mp3\")"
   ]
  },
  {
   "cell_type": "code",
   "execution_count": 8,
   "id": "5db04261",
   "metadata": {},
   "outputs": [],
   "source": [
    "def generateAnnouncement(filename):\n",
    "    df = pd.read_excel(filename)\n",
    "    print(df)\n",
    "    for index, item in df.iterrows():\n",
    "        # 2 - Generate from-city\n",
    "        textToSpeech(item['from'], '2_hindi.mp3')\n",
    "\n",
    "        # 4 - Generate via-city\n",
    "        textToSpeech(item['via'], '4_hindi.mp3')\n",
    "\n",
    "        # 6 - Generate to-city\n",
    "        textToSpeech(item['to'], '6_hindi.mp3')\n",
    "\n",
    "        # 8 - Generate train no and name\n",
    "        textToSpeech(item['train_no'] + \" \" + item['train_name'], '8_hindi.mp3')\n",
    "\n",
    "        # 10 - Generate platform number\n",
    "        textToSpeech(item['platform'], '10_hindi.mp3')\n",
    "\n",
    "        audios = [f\"{i}_hindi.mp3\" for i in range(1,12)]\n",
    "\n",
    "        announcement = mergeAudios(audios)\n",
    "        announcement.export(f\"announcement_{item['train_no']}_{index+1}.mp3\", format=\"mp3\")"
   ]
  },
  {
   "cell_type": "code",
   "execution_count": 9,
   "id": "baf43072",
   "metadata": {},
   "outputs": [
    {
     "name": "stdout",
     "output_type": "stream",
     "text": [
      "Generating Skeleton...\n",
      "Now Generating Announcement...\n",
      "    train_no            train_name      from      to        via  platform\n",
      "0  1 4 3 1 5     intercity express  Bareilly   Delhi  Ghaziabad         3\n",
      "1  1 4 3 1 6  amritsar howrah mail  Amritsar  Howrah    Lucknow         7\n"
     ]
    }
   ],
   "source": [
    "if __name__ == \"__main__\":\n",
    "    print(\"Generating Skeleton...\")\n",
    "    generateSkeleton()\n",
    "    print(\"Now Generating Announcement...\")\n",
    "    generateAnnouncement(\"announce_hindi.xlsx\")"
   ]
  },
  {
   "cell_type": "code",
   "execution_count": null,
   "id": "41dbc552",
   "metadata": {},
   "outputs": [],
   "source": []
  }
 ],
 "metadata": {
  "kernelspec": {
   "display_name": "Python 3 (ipykernel)",
   "language": "python",
   "name": "python3"
  },
  "language_info": {
   "codemirror_mode": {
    "name": "ipython",
    "version": 3
   },
   "file_extension": ".py",
   "mimetype": "text/x-python",
   "name": "python",
   "nbconvert_exporter": "python",
   "pygments_lexer": "ipython3",
   "version": "3.10.0"
  }
 },
 "nbformat": 4,
 "nbformat_minor": 5
}
